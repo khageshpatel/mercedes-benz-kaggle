{
 "cells": [
  {
   "cell_type": "code",
   "execution_count": 2,
   "metadata": {
    "collapsed": false
   },
   "outputs": [],
   "source": [
    "#Using most of the code from kaggle kernel platform\n",
    "import numpy as np\n",
    "import pandas as pd\n",
    "import matplotlib.pyplot as plt\n",
    "import seaborn as sns\n",
    "from sklearn.preprocessing import LabelEncoder\n",
    "from sklearn.decomposition import PCA, FastICA\n",
    "%matplotlib inline\n",
    "n_comp = 10\n",
    "color = sns.color_palette()"
   ]
  },
  {
   "cell_type": "code",
   "execution_count": 3,
   "metadata": {
    "collapsed": false
   },
   "outputs": [
    {
     "name": "stdout",
     "output_type": "stream",
     "text": [
      "Train shape: (4209, 378)\n",
      "Test shape: (4209, 377)\n"
     ]
    }
   ],
   "source": [
    "train_df = pd.read_csv('train.csv')\n",
    "test_df =  pd.read_csv('test.csv')\n",
    "print(\"Train shape:\",train_df.shape)\n",
    "print(\"Test shape:\",test_df.shape);"
   ]
  },
  {
   "cell_type": "code",
   "execution_count": 4,
   "metadata": {
    "collapsed": false,
    "scrolled": false
   },
   "outputs": [],
   "source": [
    "for c in train_df.columns:\n",
    "    if train_df[c].dtype == \"object\":\n",
    "        lbl = LabelEncoder()\n",
    "        lbl.fit(list(train_df[c].values) + list(test_df[c].values))\n",
    "        train_df[c] = lbl.transform(list(train_df[c].values))\n",
    "        test_df[c]  = lbl.transform(list(test_df[c].values))\n",
    "\n",
    "pca = PCA(n_components=n_comp, random_state=93)\n",
    "pca_train = pca.fit_transform(train_df.drop([\"y\",\"ID\"],axis=1))\n",
    "pca_test  = pca.transform(test_df.drop(\"ID\",axis=1))\n",
    "pca_train = pd.DataFrame(columns=[\"pca_%d\" % (i) for i in range(n_comp)],data=pca_train)\n",
    "pca_test = pd.DataFrame(columns=[\"pca_%d\" % (i) for i in range(n_comp)],data=pca_test)\n",
    "\n",
    "ica = FastICA(n_components=n_comp, random_state=93)\n",
    "ica_train = ica.fit_transform(train_df.drop([\"y\",\"ID\"],axis=1))\n",
    "ica_test  = ica.transform(test_df.drop(\"ID\",axis=1))\n",
    "ica_train = pd.DataFrame(columns=[\"ica_%d\" % (i) for i in range(n_comp)],data=ica_train)\n",
    "ica_test = pd.DataFrame(columns=[\"ica_%d\" % (i) for i in range(n_comp)],data=ica_test)\n",
    "\n",
    "train_feat = pd.concat([pca_train,ica_train],axis=1)\n",
    "test_feat = pd.concat([pca_test,ica_test],axis=1)\n",
    "\n",
    "from sklearn.preprocessing import MinMaxScaler\n",
    "\n",
    "mmfeat = MinMaxScaler(feature_range=(-1,1))\n",
    "feat = mmfeat.fit_transform(pd.concat([train_feat,test_feat]))\n",
    "\n",
    "train_feat = pd.DataFrame(columns=train_feat.columns, data=feat[:train_feat.shape[0],:])\n",
    "test_feat = pd.DataFrame(columns=test_feat.columns, data=feat[test_feat.shape[0]:,:])\n",
    "\n",
    "y = train_df['y'].values\n",
    "mmy = MinMaxScaler(feature_range=(-1,1))\n",
    "y = mmy.fit_transform(y.reshape(-1,1))"
   ]
  },
  {
   "cell_type": "code",
   "execution_count": 5,
   "metadata": {
    "collapsed": false,
    "scrolled": true
   },
   "outputs": [
    {
     "name": "stdout",
     "output_type": "stream",
     "text": [
      "   ID           y\n",
      "0   1   83.094222\n",
      "1   2  100.313241\n",
      "2   3   91.769344\n",
      "3   4   84.882721\n",
      "4   5  106.350002\n"
     ]
    }
   ],
   "source": [
    "from sklearn import svm\n",
    "clf = svm.SVR()\n",
    "clf.fit(train_feat.values, np.ravel(y))\n",
    "pred = clf.predict(test_feat.values)\n",
    "pred = mmy.inverse_transform(pred.reshape(-1,1))\n",
    "\n",
    "res = pd.DataFrame(columns = ['ID','y'], data=np.concatenate((test_df['ID'].values.reshape(-1,1),pred),axis=1))\n",
    "res['ID'] = res['ID'].astype('int')\n",
    "print(res.head())\n",
    "res.to_csv(path_or_buf='submission.csv',index=False)"
   ]
  },
  {
   "cell_type": "code",
   "execution_count": null,
   "metadata": {
    "collapsed": true
   },
   "outputs": [],
   "source": []
  }
 ],
 "metadata": {
  "kernelspec": {
   "display_name": "Python 3",
   "language": "python",
   "name": "python3"
  },
  "language_info": {
   "codemirror_mode": {
    "name": "ipython",
    "version": 3
   },
   "file_extension": ".py",
   "mimetype": "text/x-python",
   "name": "python",
   "nbconvert_exporter": "python",
   "pygments_lexer": "ipython3",
   "version": "3.6.0"
  }
 },
 "nbformat": 4,
 "nbformat_minor": 2
}
